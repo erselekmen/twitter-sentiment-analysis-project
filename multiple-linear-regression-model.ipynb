{
 "cells": [
  {
   "cell_type": "code",
   "execution_count": 1,
   "id": "42cab317",
   "metadata": {},
   "outputs": [
    {
     "name": "stdout",
     "output_type": "stream",
     "text": [
      "Requirement already satisfied: matplotlib in c:\\users\\halperk\\appdata\\local\\programs\\python\\python39\\lib\\site-packages (3.4.3)\n",
      "Requirement already satisfied: numpy>=1.16 in c:\\users\\halperk\\appdata\\local\\programs\\python\\python39\\lib\\site-packages (from matplotlib) (1.21.2)\n",
      "Requirement already satisfied: kiwisolver>=1.0.1 in c:\\users\\halperk\\appdata\\local\\programs\\python\\python39\\lib\\site-packages (from matplotlib) (1.3.1)\n",
      "Requirement already satisfied: pillow>=6.2.0 in c:\\users\\halperk\\appdata\\local\\programs\\python\\python39\\lib\\site-packages (from matplotlib) (8.3.1)\n",
      "Requirement already satisfied: python-dateutil>=2.7 in c:\\users\\halperk\\appdata\\local\\programs\\python\\python39\\lib\\site-packages (from matplotlib) (2.8.1)\n",
      "Requirement already satisfied: pyparsing>=2.2.1 in c:\\users\\halperk\\appdata\\local\\programs\\python\\python39\\lib\\site-packages (from matplotlib) (2.4.7)\n",
      "Requirement already satisfied: cycler>=0.10 in c:\\users\\halperk\\appdata\\local\\programs\\python\\python39\\lib\\site-packages (from matplotlib) (0.10.0)\n",
      "Requirement already satisfied: six in c:\\users\\halperk\\appdata\\local\\programs\\python\\python39\\lib\\site-packages (from cycler>=0.10->matplotlib) (1.16.0)\n",
      "Requirement already satisfied: sklearn in c:\\users\\halperk\\appdata\\local\\programs\\python\\python39\\lib\\site-packages (0.0)\n",
      "Requirement already satisfied: scikit-learn in c:\\users\\halperk\\appdata\\local\\programs\\python\\python39\\lib\\site-packages (from sklearn) (0.24.2)\n",
      "Requirement already satisfied: numpy>=1.13.3 in c:\\users\\halperk\\appdata\\local\\programs\\python\\python39\\lib\\site-packages (from scikit-learn->sklearn) (1.21.2)\n",
      "Requirement already satisfied: joblib>=0.11 in c:\\users\\halperk\\appdata\\local\\programs\\python\\python39\\lib\\site-packages (from scikit-learn->sklearn) (1.0.1)\n",
      "Requirement already satisfied: threadpoolctl>=2.0.0 in c:\\users\\halperk\\appdata\\local\\programs\\python\\python39\\lib\\site-packages (from scikit-learn->sklearn) (2.2.0)\n",
      "Requirement already satisfied: scipy>=0.19.1 in c:\\users\\halperk\\appdata\\local\\programs\\python\\python39\\lib\\site-packages (from scikit-learn->sklearn) (1.7.1)\n"
     ]
    }
   ],
   "source": [
    "\"\"\"\n",
    "\"Sentiment Analysis Project for Tweets using Machine Learning\"\n",
    "\n",
    "Written by Beyzagul Demir, Ersel R. Ekmen, H. Alper Karadeniz\n",
    "\n",
    "Supervisor: Assoc. Prof. Reyyan Yeniterzi\n",
    "\"\"\"\n",
    "\n",
    "### PART 2: Analyzing tweets that are filtered by the first part of the project \"data-scraper-with-twint\" file using \"Linear Regression Model\". ###\n",
    "\n",
    "!pip install matplotlib\n",
    "%matplotlib inline\n",
    "import matplotlib.pyplot as plt\n",
    "\n",
    "!pip install sklearn\n",
    "\n",
    "import pandas as pd\n",
    "import numpy as np"
   ]
  },
  {
   "cell_type": "code",
   "execution_count": 2,
   "id": "f7654bb1",
   "metadata": {},
   "outputs": [],
   "source": [
    "dataset = pd.read_csv('search_result_filtered.csv')"
   ]
  },
  {
   "cell_type": "code",
   "execution_count": 3,
   "id": "2cb16ac7",
   "metadata": {},
   "outputs": [
    {
     "data": {
      "text/html": [
       "<div>\n",
       "<style scoped>\n",
       "    .dataframe tbody tr th:only-of-type {\n",
       "        vertical-align: middle;\n",
       "    }\n",
       "\n",
       "    .dataframe tbody tr th {\n",
       "        vertical-align: top;\n",
       "    }\n",
       "\n",
       "    .dataframe thead th {\n",
       "        text-align: right;\n",
       "    }\n",
       "</style>\n",
       "<table border=\"1\" class=\"dataframe\">\n",
       "  <thead>\n",
       "    <tr style=\"text-align: right;\">\n",
       "      <th></th>\n",
       "      <th>subjectivity</th>\n",
       "      <th>polarity</th>\n",
       "      <th>replies_count</th>\n",
       "      <th>retweets_count</th>\n",
       "      <th>likes_count</th>\n",
       "      <th>link</th>\n",
       "      <th>clean_tweet</th>\n",
       "      <th>translated_tweet</th>\n",
       "    </tr>\n",
       "  </thead>\n",
       "  <tbody>\n",
       "    <tr>\n",
       "      <th>0</th>\n",
       "      <td>0.066667</td>\n",
       "      <td>0.000000</td>\n",
       "      <td>3</td>\n",
       "      <td>69</td>\n",
       "      <td>190</td>\n",
       "      <td>https://twitter.com/ybmuck/status/142812936718...</td>\n",
       "      <td>Son dk Yarın sabah bu haberi verebilmek cesare...</td>\n",
       "      <td>Last minute Tomorrow morning, it will take cou...</td>\n",
       "    </tr>\n",
       "    <tr>\n",
       "      <th>1</th>\n",
       "      <td>0.000000</td>\n",
       "      <td>0.000000</td>\n",
       "      <td>13</td>\n",
       "      <td>1</td>\n",
       "      <td>199</td>\n",
       "      <td>https://twitter.com/bpthaber/status/1428124971...</td>\n",
       "      <td>ABD Genelkurmay Başkanı Milley Afgan ordusunun...</td>\n",
       "      <td>We've seen no indication that the US Joint Chi...</td>\n",
       "    </tr>\n",
       "    <tr>\n",
       "      <th>2</th>\n",
       "      <td>0.500000</td>\n",
       "      <td>0.500000</td>\n",
       "      <td>117</td>\n",
       "      <td>121</td>\n",
       "      <td>1354</td>\n",
       "      <td>https://twitter.com/TMollaveisoglu/status/1428...</td>\n",
       "      <td>Ortaçağ karanlığının Afgan halkının üzerine çö...</td>\n",
       "      <td>Trying to compare the darkness of the Middle A...</td>\n",
       "    </tr>\n",
       "    <tr>\n",
       "      <th>3</th>\n",
       "      <td>0.816667</td>\n",
       "      <td>-0.083333</td>\n",
       "      <td>4</td>\n",
       "      <td>28</td>\n",
       "      <td>218</td>\n",
       "      <td>https://twitter.com/cemozyurtt/status/14281141...</td>\n",
       "      <td>O kadınları Taliban kurtardı murdar heriflerin...</td>\n",
       "      <td>The Taliban saved those women. It's easy to th...</td>\n",
       "    </tr>\n",
       "    <tr>\n",
       "      <th>4</th>\n",
       "      <td>0.000000</td>\n",
       "      <td>-0.200000</td>\n",
       "      <td>12</td>\n",
       "      <td>117</td>\n",
       "      <td>526</td>\n",
       "      <td>https://twitter.com/cemozyurtt/status/14281134...</td>\n",
       "      <td>Mor halkalar Afganistanlı kadınların yanındaym...</td>\n",
       "      <td>Purple circles were with Afghan women Against ...</td>\n",
       "    </tr>\n",
       "  </tbody>\n",
       "</table>\n",
       "</div>"
      ],
      "text/plain": [
       "   subjectivity  polarity  replies_count  retweets_count  likes_count  \\\n",
       "0      0.066667  0.000000              3              69          190   \n",
       "1      0.000000  0.000000             13               1          199   \n",
       "2      0.500000  0.500000            117             121         1354   \n",
       "3      0.816667 -0.083333              4              28          218   \n",
       "4      0.000000 -0.200000             12             117          526   \n",
       "\n",
       "                                                link  \\\n",
       "0  https://twitter.com/ybmuck/status/142812936718...   \n",
       "1  https://twitter.com/bpthaber/status/1428124971...   \n",
       "2  https://twitter.com/TMollaveisoglu/status/1428...   \n",
       "3  https://twitter.com/cemozyurtt/status/14281141...   \n",
       "4  https://twitter.com/cemozyurtt/status/14281134...   \n",
       "\n",
       "                                         clean_tweet  \\\n",
       "0  Son dk Yarın sabah bu haberi verebilmek cesare...   \n",
       "1  ABD Genelkurmay Başkanı Milley Afgan ordusunun...   \n",
       "2  Ortaçağ karanlığının Afgan halkının üzerine çö...   \n",
       "3  O kadınları Taliban kurtardı murdar heriflerin...   \n",
       "4  Mor halkalar Afganistanlı kadınların yanındaym...   \n",
       "\n",
       "                                    translated_tweet  \n",
       "0  Last minute Tomorrow morning, it will take cou...  \n",
       "1  We've seen no indication that the US Joint Chi...  \n",
       "2  Trying to compare the darkness of the Middle A...  \n",
       "3  The Taliban saved those women. It's easy to th...  \n",
       "4  Purple circles were with Afghan women Against ...  "
      ]
     },
     "execution_count": 3,
     "metadata": {},
     "output_type": "execute_result"
    }
   ],
   "source": [
    "dataset.head()"
   ]
  },
  {
   "cell_type": "code",
   "execution_count": 4,
   "id": "ccc4722e",
   "metadata": {
    "scrolled": true
   },
   "outputs": [
    {
     "data": {
      "text/html": [
       "<div>\n",
       "<style scoped>\n",
       "    .dataframe tbody tr th:only-of-type {\n",
       "        vertical-align: middle;\n",
       "    }\n",
       "\n",
       "    .dataframe tbody tr th {\n",
       "        vertical-align: top;\n",
       "    }\n",
       "\n",
       "    .dataframe thead th {\n",
       "        text-align: right;\n",
       "    }\n",
       "</style>\n",
       "<table border=\"1\" class=\"dataframe\">\n",
       "  <thead>\n",
       "    <tr style=\"text-align: right;\">\n",
       "      <th></th>\n",
       "      <th>subjectivity</th>\n",
       "      <th>polarity</th>\n",
       "      <th>replies_count</th>\n",
       "      <th>retweets_count</th>\n",
       "      <th>likes_count</th>\n",
       "    </tr>\n",
       "  </thead>\n",
       "  <tbody>\n",
       "    <tr>\n",
       "      <th>count</th>\n",
       "      <td>280.000000</td>\n",
       "      <td>280.000000</td>\n",
       "      <td>280.000000</td>\n",
       "      <td>280.000000</td>\n",
       "      <td>280.000000</td>\n",
       "    </tr>\n",
       "    <tr>\n",
       "      <th>mean</th>\n",
       "      <td>0.341505</td>\n",
       "      <td>0.063520</td>\n",
       "      <td>34.621429</td>\n",
       "      <td>125.214286</td>\n",
       "      <td>779.375000</td>\n",
       "    </tr>\n",
       "    <tr>\n",
       "      <th>std</th>\n",
       "      <td>0.306554</td>\n",
       "      <td>0.232207</td>\n",
       "      <td>134.771330</td>\n",
       "      <td>381.267839</td>\n",
       "      <td>2278.303613</td>\n",
       "    </tr>\n",
       "    <tr>\n",
       "      <th>min</th>\n",
       "      <td>0.000000</td>\n",
       "      <td>-0.950000</td>\n",
       "      <td>0.000000</td>\n",
       "      <td>0.000000</td>\n",
       "      <td>100.000000</td>\n",
       "    </tr>\n",
       "    <tr>\n",
       "      <th>25%</th>\n",
       "      <td>0.000000</td>\n",
       "      <td>0.000000</td>\n",
       "      <td>2.000000</td>\n",
       "      <td>24.000000</td>\n",
       "      <td>142.750000</td>\n",
       "    </tr>\n",
       "    <tr>\n",
       "      <th>50%</th>\n",
       "      <td>0.350000</td>\n",
       "      <td>0.000000</td>\n",
       "      <td>7.000000</td>\n",
       "      <td>48.000000</td>\n",
       "      <td>246.000000</td>\n",
       "    </tr>\n",
       "    <tr>\n",
       "      <th>75%</th>\n",
       "      <td>0.552500</td>\n",
       "      <td>0.170833</td>\n",
       "      <td>18.000000</td>\n",
       "      <td>94.250000</td>\n",
       "      <td>527.250000</td>\n",
       "    </tr>\n",
       "    <tr>\n",
       "      <th>max</th>\n",
       "      <td>1.000000</td>\n",
       "      <td>0.700000</td>\n",
       "      <td>1492.000000</td>\n",
       "      <td>5097.000000</td>\n",
       "      <td>24200.000000</td>\n",
       "    </tr>\n",
       "  </tbody>\n",
       "</table>\n",
       "</div>"
      ],
      "text/plain": [
       "       subjectivity    polarity  replies_count  retweets_count   likes_count\n",
       "count    280.000000  280.000000     280.000000      280.000000    280.000000\n",
       "mean       0.341505    0.063520      34.621429      125.214286    779.375000\n",
       "std        0.306554    0.232207     134.771330      381.267839   2278.303613\n",
       "min        0.000000   -0.950000       0.000000        0.000000    100.000000\n",
       "25%        0.000000    0.000000       2.000000       24.000000    142.750000\n",
       "50%        0.350000    0.000000       7.000000       48.000000    246.000000\n",
       "75%        0.552500    0.170833      18.000000       94.250000    527.250000\n",
       "max        1.000000    0.700000    1492.000000     5097.000000  24200.000000"
      ]
     },
     "execution_count": 4,
     "metadata": {},
     "output_type": "execute_result"
    }
   ],
   "source": [
    "dataset.describe()"
   ]
  },
  {
   "cell_type": "code",
   "execution_count": 39,
   "id": "0730368d",
   "metadata": {},
   "outputs": [],
   "source": [
    "X = dataset[['User_If_Verified_Account',\n",
    "             'User_Follower_Count',\n",
    "             'User_Average_Tweet_Reply_Count',\n",
    "             'User_Average_Tweet_Retweet_Count',\n",
    "             'User_Average_Tweet_Like_Count',\n",
    "             'Tweet_Reply_Count',\n",
    "             'Tweet_Retweet_Count',\n",
    "             'Tweet_Like_Count',\n",
    "             'Tweet_Subjectivity',\n",
    "             'Tweet_Polarity']]\n",
    "y = dataset['Tweet_Reliability']"
   ]
  },
  {
   "cell_type": "code",
   "execution_count": 40,
   "id": "4de80fa6",
   "metadata": {},
   "outputs": [],
   "source": [
    "from sklearn.model_selection import train_test_split\n",
    "X_train, X_test, y_train, y_test = train_test_split(X, y, test_size=0.2, random_state=0)"
   ]
  },
  {
   "cell_type": "code",
   "execution_count": 41,
   "id": "b74c7130",
   "metadata": {},
   "outputs": [
    {
     "data": {
      "text/plain": [
       "LinearRegression()"
      ]
     },
     "execution_count": 41,
     "metadata": {},
     "output_type": "execute_result"
    }
   ],
   "source": [
    "from sklearn.linear_model import LinearRegression\n",
    "regressor = LinearRegression()\n",
    "regressor.fit(X_train, y_train)"
   ]
  },
  {
   "cell_type": "code",
   "execution_count": 42,
   "id": "bb66503b",
   "metadata": {},
   "outputs": [
    {
     "data": {
      "text/html": [
       "<div>\n",
       "<style scoped>\n",
       "    .dataframe tbody tr th:only-of-type {\n",
       "        vertical-align: middle;\n",
       "    }\n",
       "\n",
       "    .dataframe tbody tr th {\n",
       "        vertical-align: top;\n",
       "    }\n",
       "\n",
       "    .dataframe thead th {\n",
       "        text-align: right;\n",
       "    }\n",
       "</style>\n",
       "<table border=\"1\" class=\"dataframe\">\n",
       "  <thead>\n",
       "    <tr style=\"text-align: right;\">\n",
       "      <th></th>\n",
       "      <th>Coefficient</th>\n",
       "    </tr>\n",
       "  </thead>\n",
       "  <tbody>\n",
       "    <tr>\n",
       "      <th>User_If_Verified_Account</th>\n",
       "      <td>6.678156e-10</td>\n",
       "    </tr>\n",
       "    <tr>\n",
       "      <th>User_Follower_Count</th>\n",
       "      <td>-2.072100e-19</td>\n",
       "    </tr>\n",
       "    <tr>\n",
       "      <th>User_Average_Tweet_Reply_Count</th>\n",
       "      <td>-2.300111e-06</td>\n",
       "    </tr>\n",
       "    <tr>\n",
       "      <th>User_Average_Tweet_Retweet_Count</th>\n",
       "      <td>1.152920e-08</td>\n",
       "    </tr>\n",
       "    <tr>\n",
       "      <th>User_Average_Tweet_Like_Count</th>\n",
       "      <td>-2.393407e-07</td>\n",
       "    </tr>\n",
       "    <tr>\n",
       "      <th>Tweet_Reply_Count</th>\n",
       "      <td>-4.299591e-06</td>\n",
       "    </tr>\n",
       "    <tr>\n",
       "      <th>Tweet_Retweet_Count</th>\n",
       "      <td>-2.513952e-05</td>\n",
       "    </tr>\n",
       "    <tr>\n",
       "      <th>Tweet_Like_Count</th>\n",
       "      <td>3.462011e-06</td>\n",
       "    </tr>\n",
       "    <tr>\n",
       "      <th>Tweet_Subjectivity</th>\n",
       "      <td>1.864266e-10</td>\n",
       "    </tr>\n",
       "    <tr>\n",
       "      <th>Tweet_Polarity</th>\n",
       "      <td>1.256830e-10</td>\n",
       "    </tr>\n",
       "  </tbody>\n",
       "</table>\n",
       "</div>"
      ],
      "text/plain": [
       "                                   Coefficient\n",
       "User_If_Verified_Account          6.678156e-10\n",
       "User_Follower_Count              -2.072100e-19\n",
       "User_Average_Tweet_Reply_Count   -2.300111e-06\n",
       "User_Average_Tweet_Retweet_Count  1.152920e-08\n",
       "User_Average_Tweet_Like_Count    -2.393407e-07\n",
       "Tweet_Reply_Count                -4.299591e-06\n",
       "Tweet_Retweet_Count              -2.513952e-05\n",
       "Tweet_Like_Count                  3.462011e-06\n",
       "Tweet_Subjectivity                1.864266e-10\n",
       "Tweet_Polarity                    1.256830e-10"
      ]
     },
     "execution_count": 42,
     "metadata": {},
     "output_type": "execute_result"
    }
   ],
   "source": [
    "coeff_df = pd.DataFrame(regressor.coef_, X.columns, columns=['Coefficient'])\n",
    "coeff_df"
   ]
  },
  {
   "cell_type": "code",
   "execution_count": 43,
   "id": "20baa4f2",
   "metadata": {},
   "outputs": [],
   "source": [
    "y_pred = regressor.predict(X_test)"
   ]
  },
  {
   "cell_type": "code",
   "execution_count": 44,
   "id": "1c79ce01",
   "metadata": {},
   "outputs": [
    {
     "data": {
      "text/html": [
       "<div>\n",
       "<style scoped>\n",
       "    .dataframe tbody tr th:only-of-type {\n",
       "        vertical-align: middle;\n",
       "    }\n",
       "\n",
       "    .dataframe tbody tr th {\n",
       "        vertical-align: top;\n",
       "    }\n",
       "\n",
       "    .dataframe thead th {\n",
       "        text-align: right;\n",
       "    }\n",
       "</style>\n",
       "<table border=\"1\" class=\"dataframe\">\n",
       "  <thead>\n",
       "    <tr style=\"text-align: right;\">\n",
       "      <th></th>\n",
       "      <th>Actual</th>\n",
       "      <th>Predicted</th>\n",
       "    </tr>\n",
       "  </thead>\n",
       "  <tbody>\n",
       "    <tr>\n",
       "      <th>2</th>\n",
       "      <td>True</td>\n",
       "      <td>0.989917</td>\n",
       "    </tr>\n",
       "  </tbody>\n",
       "</table>\n",
       "</div>"
      ],
      "text/plain": [
       "   Actual  Predicted\n",
       "2    True   0.989917"
      ]
     },
     "execution_count": 44,
     "metadata": {},
     "output_type": "execute_result"
    }
   ],
   "source": [
    "df = pd.DataFrame({'Actual': y_test, 'Predicted': y_pred})\n",
    "df"
   ]
  },
  {
   "cell_type": "code",
   "execution_count": 45,
   "id": "0e191ddd",
   "metadata": {},
   "outputs": [
    {
     "name": "stdout",
     "output_type": "stream",
     "text": [
      "Mean Absolute Error: 0.01008250081513784\n",
      "Mean Squared Error: 0.00010165682268725521\n",
      "Root Mean Squared Error: 0.01008250081513784\n"
     ]
    }
   ],
   "source": [
    "from sklearn import metrics\n",
    "print('Mean Absolute Error:', metrics.mean_absolute_error(y_test, y_pred))\n",
    "print('Mean Squared Error:', metrics.mean_squared_error(y_test, y_pred))\n",
    "print('Root Mean Squared Error:', np.sqrt(metrics.mean_squared_error(y_test, y_pred)))"
   ]
  },
  {
   "cell_type": "code",
   "execution_count": null,
   "id": "7673c204",
   "metadata": {},
   "outputs": [],
   "source": []
  }
 ],
 "metadata": {
  "kernelspec": {
   "display_name": "Python 3 (ipykernel)",
   "language": "python",
   "name": "python3"
  },
  "language_info": {
   "codemirror_mode": {
    "name": "ipython",
    "version": 3
   },
   "file_extension": ".py",
   "mimetype": "text/x-python",
   "name": "python",
   "nbconvert_exporter": "python",
   "pygments_lexer": "ipython3",
   "version": "3.9.1"
  }
 },
 "nbformat": 4,
 "nbformat_minor": 5
}
